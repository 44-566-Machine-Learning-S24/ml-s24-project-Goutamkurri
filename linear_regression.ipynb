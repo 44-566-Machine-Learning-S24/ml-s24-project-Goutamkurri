{
 "cells": [
  {
   "cell_type": "code",
   "execution_count": 2,
   "id": "de7f4542",
   "metadata": {},
   "outputs": [
    {
     "name": "stdout",
     "output_type": "stream",
     "text": [
      "0               2 E 55th St Unit 803New York, NY 10022\n",
      "1    Central Park Tower Penthouse-217 W 57th New Yo...\n",
      "2              620 Sinclair AveStaten Island, NY 10312\n",
      "3           2 E 55th St Unit 908W33Manhattan, NY 10022\n",
      "4                        5 E 64th StNew York, NY 10065\n",
      "Name: MAIN_ADDRESS, dtype: object\n",
      "0    10022\n",
      "1    10019\n",
      "2    10312\n",
      "3    10022\n",
      "4    10065\n",
      "Name: ZIP_CODE, dtype: object\n"
     ]
    }
   ],
   "source": [
    "import pandas as pd\n",
    "\n",
    "# Read the dataset\n",
    "housing_data = pd.read_csv(\"NY-House-Dataset.csv\")\n",
    "\n",
    "# Check the first few rows to understand the structure of the MAIN_ADDRESS column\n",
    "print(housing_data['MAIN_ADDRESS'].head())\n",
    "\n",
    "# Extract zip code from MAIN_ADDRESS column\n",
    "housing_data['ZIP_CODE'] = housing_data['MAIN_ADDRESS'].str[-5:]\n",
    "\n",
    "# Check the new column\n",
    "print(housing_data['ZIP_CODE'].head())\n",
    "\n",
    "# Continue with data cleaning and preparation...\n"
   ]
  },
  {
   "cell_type": "code",
   "execution_count": null,
   "id": "44246996",
   "metadata": {},
   "outputs": [],
   "source": []
  }
 ],
 "metadata": {
  "kernelspec": {
   "display_name": "Python 3 (ipykernel)",
   "language": "python",
   "name": "python3"
  },
  "language_info": {
   "codemirror_mode": {
    "name": "ipython",
    "version": 3
   },
   "file_extension": ".py",
   "mimetype": "text/x-python",
   "name": "python",
   "nbconvert_exporter": "python",
   "pygments_lexer": "ipython3",
   "version": "3.11.5"
  }
 },
 "nbformat": 4,
 "nbformat_minor": 5
}
