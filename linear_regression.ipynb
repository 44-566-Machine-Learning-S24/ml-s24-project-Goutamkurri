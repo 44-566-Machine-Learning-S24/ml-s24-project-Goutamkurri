{
 "cells": [
  {
   "cell_type": "code",
   "execution_count": 8,
   "id": "d2a19238",
   "metadata": {},
   "outputs": [],
   "source": [
    "import pandas as pd\n",
    "from sklearn.model_selection import train_test_split\n",
    "\n",
    "housing_data = pd.read_csv(\"cleaned_housing_data.csv\")\n",
    "rat_sightings_data = pd.read_csv(\"cleaned_rat_sightings_data.csv\")\n",
    "\n",
    "merged_data = pd.merge(housing_data, rat_sightings_data, how='inner', left_on='ZIPCODE', right_on='Incident Zip')\n",
    "\n",
    "# Define features and target variable\n",
    "X = merged_data[['PROPERTYSQFT']].values  # Features\n",
    "y = merged_data[['PRICE']].values  # Target variable\n",
    "\n",
    "# Split the data into training and testing sets\n",
    "X_train, X_test, y_train, y_test = train_test_split(X, y, test_size=0.2, random_state=42)\n"
   ]
  },
  {
   "cell_type": "markdown",
   "id": "0abfe48e",
   "metadata": {},
   "source": [
    "### Feature Selection Explanation\n",
    "\n",
    "For the initial set of features for \\( X \\), I chose the housing prices (`PRICE`) from the New York Housing dataset. Higher housing prices may indicate more affluent areas with better living conditions, while lower prices may suggest less desirable or lower-income neighborhoods.\n",
    "\n",
    "As for the target feature \\( y \\), I selected the count of rat sightings (`Sightings Count`) from the Rat Sightings dataset. Higher counts of rat sightings may suggest poorer sanitation and hygiene practices, which could potentially affect the desirability and perceived value of properties in the vicinity.\n",
    "\n",
    "By examining the relationship between housing prices and the count of rat sightings, we can explore potential correlations and patterns between socio-economic factors and public health concerns in different neighborhoods of New York City."
   ]
  },
  {
   "cell_type": "code",
   "execution_count": 11,
   "id": "7f4747b7",
   "metadata": {},
   "outputs": [
    {
     "name": "stdout",
     "output_type": "stream",
     "text": [
      "Mean Squared Error: 11303404997815.086\n",
      "R-squared Score: 0.3123073815313048\n"
     ]
    }
   ],
   "source": [
    "from sklearn.linear_model import LinearRegression\n",
    "from sklearn.metrics import mean_squared_error, r2_score\n",
    "\n",
    "linear_reg = LinearRegression()\n",
    "linear_reg.fit(X_train, y_train)\n",
    "\n",
    "y_pred = linear_reg.predict(X_test)\n",
    "\n",
    "mse = mean_squared_error(y_test, y_pred)\n",
    "r2 = r2_score(y_test, y_pred)\n",
    "\n",
    "print(\"Mean Squared Error:\", mse)\n",
    "print(\"R-squared Score:\", r2)\n"
   ]
  },
  {
   "cell_type": "markdown",
   "id": "640ab8c7",
   "metadata": {},
   "source": [
    "The results of the linear regression model show a high Mean Squared Error (MSE) of approximately 272,040.61 and a very low R-squared score of approximately -0.0000422. \n",
    "\n",
    "- **Mean Squared Error (MSE)**: The high MSE indicates that the model's predictions deviate significantly from the actual values, on average. This suggests that the model does not fit the data well and has high variability in its predictions.\n",
    "\n",
    "- **R-squared Score**: The negative R-squared score indicates that the model performs worse than a model that simply predicts the mean of the target variable. It implies that the linear regression model fails to explain any meaningful variation in the count of rat sightings based on housing prices.\n",
    "\n",
    "Overall, the results suggest that the linear regression model does not capture the relationship between housing prices and the count of rat sightings effectively. Additional features or a more sophisticated modeling approach may be necessary to improve the predictive performance."
   ]
  },
  {
   "cell_type": "code",
   "execution_count": 12,
   "id": "0fd36e5f",
   "metadata": {
    "scrolled": true
   },
   "outputs": [
    {
     "name": "stdout",
     "output_type": "stream",
     "text": [
      "Polynomial Regression (Degree = 2):\n",
      "Train MSE: 287842.11080242554\n",
      "Test MSE: 272134.0861484541\n",
      "Train R-squared Score: 0.0004562264742219435\n",
      "Test R-squared Score: -0.0003857962849971308\n"
     ]
    }
   ],
   "source": [
    "import numpy as np\n",
    "from sklearn.preprocessing import PolynomialFeatures\n",
    "from sklearn.linear_model import LinearRegression\n",
    "from sklearn.pipeline import make_pipeline\n",
    "from sklearn.metrics import mean_squared_error, r2_score\n",
    "\n",
    "\n",
    "# Polynomial Regression\n",
    "degree = 2  \n",
    "model = make_pipeline(PolynomialFeatures(degree), LinearRegression())\n",
    "\n",
    "model.fit(X_train, y_train)\n",
    "\n",
    "y_pred_train = model.predict(X_train)\n",
    "y_pred_test = model.predict(X_test)\n",
    "\n",
    "mse_train = mean_squared_error(y_train, y_pred_train)\n",
    "mse_test = mean_squared_error(y_test, y_pred_test)\n",
    "r2_train = r2_score(y_train, y_pred_train)\n",
    "r2_test = r2_score(y_test, y_pred_test)\n",
    "\n",
    "print(\"Polynomial Regression (Degree = {}):\".format(degree))\n",
    "print(\"Train MSE:\", mse_train)\n",
    "print(\"Test MSE:\", mse_test)\n",
    "print(\"Train R-squared Score:\", r2_train)\n",
    "print(\"Test R-squared Score:\", r2_test)\n"
   ]
  },
  {
   "cell_type": "markdown",
   "id": "c7034a7f",
   "metadata": {},
   "source": [
    "Overall, these results indicate that the linear regression model does not effectively capture the relationship between housing prices and the count of rat sightings. Further exploration with additional features or alternative modeling techniques may be necessary to improve the predictive performance."
   ]
  },
  {
   "cell_type": "code",
   "execution_count": null,
   "id": "21dcf2a3",
   "metadata": {},
   "outputs": [],
   "source": []
  }
 ],
 "metadata": {
  "kernelspec": {
   "display_name": "Python 3 (ipykernel)",
   "language": "python",
   "name": "python3"
  },
  "language_info": {
   "codemirror_mode": {
    "name": "ipython",
    "version": 3
   },
   "file_extension": ".py",
   "mimetype": "text/x-python",
   "name": "python",
   "nbconvert_exporter": "python",
   "pygments_lexer": "ipython3",
   "version": "3.11.5"
  }
 },
 "nbformat": 4,
 "nbformat_minor": 5
}
