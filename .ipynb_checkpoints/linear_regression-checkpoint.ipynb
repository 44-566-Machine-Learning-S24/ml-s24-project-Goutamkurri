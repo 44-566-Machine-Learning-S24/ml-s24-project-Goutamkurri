{
 "cells": [
  {
   "cell_type": "code",
   "execution_count": 1,
   "id": "d2a19238",
   "metadata": {},
   "outputs": [
    {
     "name": "stdout",
     "output_type": "stream",
     "text": [
      "Dataset loaded successfully.\n",
      "Shape of X_train: (3840, 4)\n",
      "Shape of X_test: (961, 4)\n",
      "Shape of y_train: (3840,)\n",
      "Shape of y_test: (961,)\n"
     ]
    }
   ],
   "source": [
    "from sklearn.model_selection import train_test_split\n",
    "import numpy as np\n",
    "import pandas as pd\n",
    "\n",
    "file_path = \"NY-House-Dataset.csv\"\n",
    "try:\n",
    "    df = pd.read_csv(file_path)\n",
    "    print(\"Dataset loaded successfully.\")\n",
    "except FileNotFoundError:\n",
    "    print(f\"File '{file_path}' not found.\")\n",
    "\n",
    "# Haversine formula to calculate distance between two points given their coordinates\n",
    "def haversine(lat1, lon1, lat2, lon2):\n",
    "    R = 6371  \n",
    "    dlat = np.radians(lat2 - lat1)\n",
    "    dlon = np.radians(lon2 - lon1)\n",
    "    a = np.sin(dlat / 2) ** 2 + np.cos(np.radians(lat1)) * np.cos(np.radians(lat2)) * np.sin(dlon / 2) ** 2\n",
    "    c = 2 * np.arctan2(np.sqrt(a), np.sqrt(1 - a))\n",
    "    distance = R * c \n",
    "    return distance\n",
    "\n",
    "iconic_landmark_coords = (40.7580, -73.9855)  # Times Square coordinates\n",
    "\n",
    "df['DISTANCE_TO_ICONIC_LANDMARK'] = df.apply(lambda row: haversine(row['LATITUDE'], row['LONGITUDE'], iconic_landmark_coords[0], iconic_landmark_coords[1]), axis=1)\n",
    "\n",
    "X = df[['BEDS', 'BATH', 'PROPERTYSQFT', 'DISTANCE_TO_ICONIC_LANDMARK']]\n",
    "y = df['PRICE']\n",
    "\n",
    "X_train, X_test, y_train, y_test = train_test_split(X, y, test_size=0.2, random_state=42)\n",
    "\n",
    "print(\"Shape of X_train:\", X_train.shape)\n",
    "print(\"Shape of X_test:\", X_test.shape)\n",
    "print(\"Shape of y_train:\", y_train.shape)\n",
    "print(\"Shape of y_test:\", y_test.shape)\n"
   ]
  },
  {
   "cell_type": "markdown",
   "id": "0abfe48e",
   "metadata": {},
   "source": [
    "For the initial set of features, I have chosen 'BEDS', 'BATH', 'PROPERTYSQFT', 'LATITUDE', and 'LONGITUDE' for X, representing the number of bedrooms, number of bathrooms, property square footage, latitude, and longitude coordinates of each house respectively. \n",
    "\n",
    "- **Number of Bedrooms (BEDS)**: This feature can have a significant impact on the price of a house. Generally, houses with more bedrooms tend to have higher prices.\n",
    "\n",
    "- **Number of Bathrooms (BATH)**: Similar to the number of bedrooms, the number of bathrooms is an important factor influencing house prices. Houses with more bathrooms are often considered more desirable and thus command higher prices.\n",
    "\n",
    "- **Property Square Footage (PROPERTYSQFT)**: The size of the property is a crucial determinant of its price. Larger properties typically have higher prices compared to smaller ones.\n",
    "\n",
    "For the target feature y, I have chosen 'PRICE', which represents the price of each house. The goal of the predictive model is to estimate house prices based on the selected features."
   ]
  },
  {
   "cell_type": "code",
   "execution_count": 2,
   "id": "7f4747b7",
   "metadata": {},
   "outputs": [
    {
     "name": "stdout",
     "output_type": "stream",
     "text": [
      "Training RMSE: 34741147.83134519\n",
      "Training MAE: 2582395.0723595237\n",
      "Training R^2 Score: 0.012787375754583108\n"
     ]
    }
   ],
   "source": [
    "from sklearn.linear_model import LinearRegression\n",
    "from sklearn.metrics import mean_squared_error, mean_absolute_error, r2_score\n",
    "\n",
    "linear_reg = LinearRegression()\n",
    "\n",
    "linear_reg.fit(X_train, y_train)\n",
    "\n",
    "y_train_pred = linear_reg.predict(X_train)\n",
    "\n",
    "train_rmse = mean_squared_error(y_train, y_train_pred, squared=False)\n",
    "train_mae = mean_absolute_error(y_train, y_train_pred)\n",
    "train_r2 = r2_score(y_train, y_train_pred)\n",
    "\n",
    "print(\"Training RMSE:\", train_rmse)\n",
    "print(\"Training MAE:\", train_mae)\n",
    "print(\"Training R^2 Score:\", train_r2)"
   ]
  },
  {
   "cell_type": "markdown",
   "id": "640ab8c7",
   "metadata": {},
   "source": [
    "These metrics provide insights into how well the linear regression model fits the training data. However, the results indicate that the model's performance on the training set is not satisfactory.\n",
    "\n",
    "1. **RMSE (Root Mean Squared Error)**: This metric measures the average difference between the predicted and actual values. A higher RMSE indicates larger errors in predictions. In this case, the RMSE is very high, suggesting that the model's predictions deviate significantly from the actual house prices in the training set.\n",
    "\n",
    "2. **MAE (Mean Absolute Error)**: MAE represents the average absolute difference between the predicted and actual values. Similar to RMSE, a higher MAE indicates larger errors in predictions. The MAE value is also quite high, indicating substantial errors in the model's predictions.\n",
    "\n",
    "3. **R^2 Score (Coefficient of Determination)**: R^2 score measures the proportion of the variance in the target variable that is predictable from the features. A higher R^2 score closer to 1 indicates a better fit of the model to the data. However, the R^2 score here is very low (0.015), suggesting that the model explains only a small fraction of the variance in the target variable and performs poorly in capturing the relationships between features and house prices.\n",
    "\n",
    "Overall, based on these results, it appears that the linear regression model is not able to effectively capture the underlying patterns in the training data, and its predictive performance is inadequate. Further analysis and potentially more sophisticated modeling techniques may be necessary to improve the model's performance."
   ]
  },
  {
   "cell_type": "code",
   "execution_count": 3,
   "id": "0fd36e5f",
   "metadata": {
    "scrolled": true
   },
   "outputs": [
    {
     "name": "stdout",
     "output_type": "stream",
     "text": [
      "Random Forest Model - Training RMSE: 13437769.66820343\n",
      "Random Forest Model - Training MAE: 641779.5885730779\n",
      "Random Forest Model - Training R^2 Score: 0.8523012705523719\n"
     ]
    }
   ],
   "source": [
    "from sklearn.ensemble import RandomForestRegressor\n",
    "\n",
    "random_forest = RandomForestRegressor(random_state=42)\n",
    "\n",
    "random_forest.fit(X_train, y_train)\n",
    "\n",
    "y_train_pred_rf = random_forest.predict(X_train)\n",
    "\n",
    "train_rmse_rf = mean_squared_error(y_train, y_train_pred_rf, squared=False)\n",
    "train_mae_rf = mean_absolute_error(y_train, y_train_pred_rf)\n",
    "train_r2_rf = r2_score(y_train, y_train_pred_rf)\n",
    "\n",
    "print(\"Random Forest Model - Training RMSE:\", train_rmse_rf)\n",
    "print(\"Random Forest Model - Training MAE:\", train_mae_rf)\n",
    "print(\"Random Forest Model - Training R^2 Score:\", train_r2_rf)"
   ]
  },
  {
   "cell_type": "code",
   "execution_count": 4,
   "id": "66ab13f0",
   "metadata": {},
   "outputs": [
    {
     "name": "stdout",
     "output_type": "stream",
     "text": [
      "Random Forest Model - Test RMSE: 3997783.820897493\n",
      "Random Forest Model - Test MAE: 1010674.8895903325\n",
      "Random Forest Model - Test R^2 Score: 0.365652686726766\n"
     ]
    }
   ],
   "source": [
    "y_test_pred_rf = random_forest.predict(X_test)\n",
    "\n",
    "test_rmse_rf = mean_squared_error(y_test, y_test_pred_rf, squared=False)\n",
    "test_mae_rf = mean_absolute_error(y_test, y_test_pred_rf)\n",
    "test_r2_rf = r2_score(y_test, y_test_pred_rf)\n",
    "\n",
    "print(\"Random Forest Model - Test RMSE:\", test_rmse_rf)\n",
    "print(\"Random Forest Model - Test MAE:\", test_mae_rf)\n",
    "print(\"Random Forest Model - Test R^2 Score:\", test_r2_rf)\n"
   ]
  },
  {
   "cell_type": "markdown",
   "id": "c7034a7f",
   "metadata": {},
   "source": [
    "**Markdown: Look at the parameters you found and discuss what you have learned.**\n",
    "\n",
    "The Random Forest model was trained and evaluated with the following results:\n",
    "\n",
    "- **Training RMSE**: 13,248,201.90\n",
    "- **Training MAE**: 596,846.20\n",
    "- **Training R^2 Score**: 0.856\n",
    "\n",
    "- **Test RMSE**: 3,334,708.86\n",
    "- **Test MAE**: 814,564.65\n",
    "- **Test R^2 Score**: 0.559\n",
    "\n",
    "**Training Evaluation:**\n",
    "- The model achieved a relatively low RMSE on the training set, indicating that, on average, the predicted house prices differ from the actual prices by approximately 13.25 million.\n",
    "- The MAE is also relatively low, indicating that, on average, the absolute difference between predicted and actual prices is around 596,846.\n",
    "- The R^2 score of 0.856 suggests that the model explains approximately 85.6% of the variance in the training data.\n",
    "\n",
    "**Test Evaluation:**\n",
    "- The model's performance on the test set is slightly worse compared to the training set, with a higher RMSE and MAE.\n",
    "- The RMSE on the test set is approximately 3.33 million, indicating that, on average, the predicted house prices differ from the actual prices by this amount.\n",
    "- The MAE on the test set is around 814,564, suggesting a slightly higher average absolute difference between predicted and actual prices compared to the training set.\n",
    "- The R^2 score on the test set is 0.559, indicating that the model explains approximately 55.9% of the variance in the test data.\n",
    "\n",
    "**Discussion:**\n",
    "- The model appears to have good performance on the training set, as evidenced by the low RMSE, MAE, and high R^2 score.\n",
    "- However, there seems to be some level of overfitting, as the model's performance on the test set is not as good as on the training set. The higher RMSE and MAE on the test set suggest that the model may not generalize well to unseen data.\n",
    "- Further tuning of hyperparameters or exploring different algorithms may help improve the model's performance on the test set and mitigate overfitting. Additionally, collecting more data or refining features could also enhance the model's predictive capability."
   ]
  },
  {
   "cell_type": "code",
   "execution_count": 24,
   "id": "21dcf2a3",
   "metadata": {},
   "outputs": [
    {
     "name": "stdout",
     "output_type": "stream",
     "text": [
      "Missing values:\n",
      " PRICE           0\n",
      "BEDS            0\n",
      "BATH            0\n",
      "PROPERTYSQFT    0\n",
      "LATITUDE        0\n",
      "LONGITUDE       0\n",
      "dtype: int64\n"
     ]
    },
    {
     "name": "stderr",
     "output_type": "stream",
     "text": [
      "C:\\Users\\S560757\\AppData\\Local\\Temp\\ipykernel_9596\\3599521452.py:24: SettingWithCopyWarning: \n",
      "A value is trying to be set on a copy of a slice from a DataFrame.\n",
      "Try using .loc[row_indexer,col_indexer] = value instead\n",
      "\n",
      "See the caveats in the documentation: https://pandas.pydata.org/pandas-docs/stable/user_guide/indexing.html#returning-a-view-versus-a-copy\n",
      "  df_clean.loc[:, 'PRICE_CATEGORY'] = pd.cut(df_clean['PRICE'], bins=bins, labels=labels, right=False)\n"
     ]
    },
    {
     "data": {
      "image/png": "[encoded data removed]",
      "text/plain": [
       "<Figure size 1000x600 with 1 Axes>"
      ]
     },
     "metadata": {},
     "output_type": "display_data"
    },
    {
     "name": "stdout",
     "output_type": "stream",
     "text": [
      "Regression Metrics:\n",
      "Mean Absolute Error (MAE): 309470.8629788536\n",
      "Root Mean Square Error (RMSE): 432505.0860215674\n",
      "R-squared value: 0.42607568163183984\n",
      "Classification Accuracy: 0.22131147540983606\n"
     ]
    }
   ],
   "source": [
    "import pandas as pd\n",
    "import numpy as np\n",
    "import matplotlib.pyplot as plt\n",
    "from sklearn.model_selection import train_test_split\n",
    "from sklearn.linear_model import LinearRegression\n",
    "from sklearn.metrics import mean_absolute_error, mean_squared_error, r2_score, accuracy_score\n",
    "from sklearn.preprocessing import LabelEncoder\n",
    "\n",
    "# Load the dataset\n",
    "file_path = 'NY-House-Dataset.csv'\n",
    "df = pd.read_csv(file_path)\n",
    "\n",
    "# Select relevant columns\n",
    "selected_columns = ['PRICE', 'BEDS', 'BATH', 'PROPERTYSQFT', 'LATITUDE', 'LONGITUDE']\n",
    "df_clean = df[selected_columns]\n",
    "\n",
    "# Check for missing values\n",
    "missing_values = df_clean.isnull().sum()\n",
    "print(\"Missing values:\\n\", missing_values)\n",
    "\n",
    "# Define price range categories\n",
    "bins = [0, 400000, 675000, 995000, 2000000, float('inf')]\n",
    "labels = ['Very Low', 'Low', 'Medium', 'High', 'Very High']\n",
    "df_clean.loc[:, 'PRICE_CATEGORY'] = pd.cut(df_clean['PRICE'], bins=bins, labels=labels, right=False)\n",
    "\n",
    "# Remove outliers\n",
    "def remove_outliers(df, column):\n",
    "    Q1 = df[column].quantile(0.25)\n",
    "    Q3 = df[column].quantile(0.75)\n",
    "    IQR = Q3 - Q1\n",
    "    lower_bound = Q1 - 1.5 * IQR\n",
    "    upper_bound = Q3 + 1.5 * IQR\n",
    "    df_filtered = df[(df[column] >= lower_bound) & (df[column] <= upper_bound)]\n",
    "    return df_filtered\n",
    "\n",
    "numeric_columns = ['PRICE', 'BEDS', 'BATH', 'PROPERTYSQFT']\n",
    "for column in numeric_columns:\n",
    "    df_clean = remove_outliers(df_clean, column)\n",
    "\n",
    "import matplotlib.pyplot as plt\n",
    "\n",
    "# Plotting the histogram for house prices\n",
    "plt.figure(figsize=(10, 6))\n",
    "plt.hist(df_clean['PRICE'], bins=50, color='blue', alpha=0.7)\n",
    "plt.title('Distribution of House Prices')\n",
    "plt.xlabel('Price')\n",
    "plt.ylabel('Frequency')\n",
    "plt.grid(True)\n",
    "plt.show()\n",
    "\n",
    "# Calculate distance to Central Park\n",
    "def haversine_distance(lat1, lon1, lat2, lon2):\n",
    "    # Radius of Earth in kilometers\n",
    "    R = 6371.0\n",
    "    lat1_rad = np.radians(lat1)\n",
    "    lon1_rad = np.radians(lon1)\n",
    "    lat2_rad = np.radians(lat2)\n",
    "    lon2_rad = np.radians(lon2)\n",
    "    dlat = lat2_rad - lat1_rad\n",
    "    dlon = lon2_rad - lon1_rad\n",
    "    a = np.sin(dlat / 2)**2 + np.cos(lat1_rad) * np.cos(lat2_rad) * np.sin(dlon / 2)**2\n",
    "    c = 2 * np.arctan2(np.sqrt(a), np.sqrt(1 - a))\n",
    "    distance = R * c\n",
    "    return distance\n",
    "\n",
    "central_park_lat = 40.7851\n",
    "central_park_lon = -73.9683\n",
    "df_clean['distance_to_central_park'] = df_clean.apply(lambda row: haversine_distance(row['LATITUDE'], row['LONGITUDE'], central_park_lat, central_park_lon), axis=1)\n",
    "\n",
    "# Split dataset for regression\n",
    "X_reg = df_clean[['BEDS', 'BATH', 'PROPERTYSQFT', 'LATITUDE', 'LONGITUDE', 'distance_to_central_park']]\n",
    "y_reg = df_clean['PRICE']\n",
    "\n",
    "X_train_reg, X_test_reg, y_train_reg, y_test_reg = train_test_split(X_reg, y_reg, test_size=0.2, random_state=42)\n",
    "\n",
    "# Linear regression model\n",
    "model_reg = LinearRegression()\n",
    "model_reg.fit(X_train_reg, y_train_reg)\n",
    "y_pred_reg = model_reg.predict(X_test_reg)\n",
    "\n",
    "# Regression metrics\n",
    "mae_reg = mean_absolute_error(y_test_reg, y_pred_reg)\n",
    "rmse_reg = mean_squared_error(y_test_reg, y_pred_reg, squared=False)\n",
    "r2_reg = r2_score(y_test_reg, y_pred_reg)\n",
    "\n",
    "print(\"Regression Metrics:\")\n",
    "print(\"Mean Absolute Error (MAE):\", mae_reg)\n",
    "print(\"Root Mean Square Error (RMSE):\", rmse_reg)\n",
    "print(\"R-squared value:\", r2_reg)\n",
    "\n",
    "# Split dataset for classification\n",
    "X_class = df_clean[['BEDS', 'BATH', 'PROPERTYSQFT', 'LATITUDE', 'LONGITUDE', 'distance_to_central_park']]\n",
    "y_class = df_clean['PRICE_CATEGORY']\n",
    "\n",
    "X_train_class, X_test_class, y_train_class, y_test_class = train_test_split(X_class, y_class, test_size=0.2, random_state=42)\n",
    "\n",
    "# Encode target variable\n",
    "label_encoder = LabelEncoder()\n",
    "y_train_encoded = label_encoder.fit_transform(y_train_class)\n",
    "y_test_encoded = label_encoder.transform(y_test_class)\n",
    "\n",
    "# Linear regression model for classification\n",
    "model_class = LinearRegression()\n",
    "model_class.fit(X_train_class, y_train_encoded)\n",
    "y_pred_class = model_class.predict(X_test_class).round().astype(int)\n",
    "\n",
    "# Classification accuracy\n",
    "accuracy = accuracy_score(y_test_encoded, y_pred_class)\n",
    "print(\"Classification Accuracy:\", accuracy)\n"
   ]
  },
  {
   "cell_type": "code",
   "execution_count": null,
   "id": "1b8e60ff",
   "metadata": {},
   "outputs": [],
   "source": []
  }
 ],
 "metadata": {
  "kernelspec": {
   "display_name": "Python 3 (ipykernel)",
   "language": "python",
   "name": "python3"
  },
  "language_info": {
   "codemirror_mode": {
    "name": "ipython",
    "version": 3
   },
   "file_extension": ".py",
   "mimetype": "text/x-python",
   "name": "python",
   "nbconvert_exporter": "python",
   "pygments_lexer": "ipython3",
   "version": "3.11.5"
  }
 },
 "nbformat": 4,
 "nbformat_minor": 5
}
