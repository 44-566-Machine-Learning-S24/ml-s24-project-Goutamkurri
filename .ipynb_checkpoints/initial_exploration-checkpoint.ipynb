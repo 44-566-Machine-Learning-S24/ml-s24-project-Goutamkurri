{
 "cells": [
  {
   "cell_type": "code",
   "execution_count": 5,
   "id": "e9da809b",
   "metadata": {
    "scrolled": true
   },
   "outputs": [
    {
     "name": "stdout",
     "output_type": "stream",
     "text": [
      "Dataset loaded successfully.\n",
      "\n",
      "First few rows of the dataset:\n",
      "                 TYPE      PRICE  BEDS       BATH  PROPERTYSQFT  \\\n",
      "0      Condo for sale     315000     2   2.000000        1400.0   \n",
      "1      Condo for sale  195000000     7  10.000000       17545.0   \n",
      "2      House for sale     260000     4   2.000000        2015.0   \n",
      "3      Condo for sale      69000     3   1.000000         445.0   \n",
      "4  Townhouse for sale   55000000     7   2.373861       14175.0   \n",
      "\n",
      "                     STATE                                       MAIN_ADDRESS  \\\n",
      "0       New York, NY 10022             2 E 55th St Unit 803New York, NY 10022   \n",
      "1       New York, NY 10019  Central Park Tower Penthouse-217 W 57th New Yo...   \n",
      "2  Staten Island, NY 10312            620 Sinclair AveStaten Island, NY 10312   \n",
      "3      Manhattan, NY 10022         2 E 55th St Unit 908W33Manhattan, NY 10022   \n",
      "4       New York, NY 10065                      5 E 64th StNew York, NY 10065   \n",
      "\n",
      "  ADMINISTRATIVE_AREA_LEVEL_2  LOCALITY      SUBLOCALITY       STREET_NAME  \\\n",
      "0             New York County  New York        Manhattan  East 55th Street   \n",
      "1               United States  New York  New York County          New York   \n",
      "2               United States  New York  Richmond County     Staten Island   \n",
      "3               United States  New York  New York County          New York   \n",
      "4               United States  New York  New York County          New York   \n",
      "\n",
      "    LATITUDE  LONGITUDE  \n",
      "0  40.761255 -73.974483  \n",
      "1  40.766393 -73.980991  \n",
      "2  40.541805 -74.196109  \n",
      "3  40.761398 -73.974613  \n",
      "4  40.767224 -73.969856  \n",
      "\n",
      "Summary statistics of the dataset:\n",
      "              PRICE         BEDS         BATH  PROPERTYSQFT     LATITUDE  \\\n",
      "count  4.801000e+03  4801.000000  4801.000000   4801.000000  4801.000000   \n",
      "mean   2.356940e+06     3.356801     2.373861   2184.208584    40.714227   \n",
      "std    3.135525e+07     2.602315     1.946962   2377.140894     0.087676   \n",
      "min    2.494000e+03     1.000000     0.000000    230.000000    40.499546   \n",
      "25%    4.990000e+05     2.000000     1.000000   1200.000000    40.639375   \n",
      "50%    8.250000e+05     3.000000     2.000000   2184.210000    40.726749   \n",
      "75%    1.495000e+06     4.000000     3.000000   2184.210000    40.771923   \n",
      "max    2.147484e+09    50.000000    50.000000  65535.000000    40.912729   \n",
      "\n",
      "         LONGITUDE  \n",
      "count  4801.000000  \n",
      "mean    -73.941601  \n",
      "std       0.101082  \n",
      "min     -74.253033  \n",
      "25%     -73.987143  \n",
      "50%     -73.949189  \n",
      "75%     -73.870638  \n",
      "max     -73.702450  \n",
      "\n",
      "Information about the dataset:\n",
      "<class 'pandas.core.frame.DataFrame'>\n",
      "RangeIndex: 4801 entries, 0 to 4800\n",
      "Data columns (total 13 columns):\n",
      " #   Column                       Non-Null Count  Dtype  \n",
      "---  ------                       --------------  -----  \n",
      " 0   TYPE                         4801 non-null   object \n",
      " 1   PRICE                        4801 non-null   int64  \n",
      " 2   BEDS                         4801 non-null   int64  \n",
      " 3   BATH                         4801 non-null   float64\n",
      " 4   PROPERTYSQFT                 4801 non-null   float64\n",
      " 5   STATE                        4801 non-null   object \n",
      " 6   MAIN_ADDRESS                 4801 non-null   object \n",
      " 7   ADMINISTRATIVE_AREA_LEVEL_2  4801 non-null   object \n",
      " 8   LOCALITY                     4801 non-null   object \n",
      " 9   SUBLOCALITY                  4801 non-null   object \n",
      " 10  STREET_NAME                  4801 non-null   object \n",
      " 11  LATITUDE                     4801 non-null   float64\n",
      " 12  LONGITUDE                    4801 non-null   float64\n",
      "dtypes: float64(4), int64(2), object(7)\n",
      "memory usage: 487.7+ KB\n",
      "None\n"
     ]
    }
   ],
   "source": [
    "import pandas as pd\n",
    "\n",
    "file_path = \"NY-House-Dataset.csv\"\n",
    "try:\n",
    "    df = pd.read_csv(file_path)\n",
    "    print(\"Dataset loaded successfully.\")\n",
    "except FileNotFoundError:\n",
    "    print(f\"File '{file_path}' not found.\")\n",
    "\n",
    "print(\"\\nFirst few rows of the dataset:\")\n",
    "print(df.head())\n",
    "\n",
    "print(\"\\nSummary statistics of the dataset:\")\n",
    "print(df.describe())\n",
    "\n",
    "print(\"\\nInformation about the dataset:\")\n",
    "print(df.info())\n"
   ]
  },
  {
   "cell_type": "markdown",
   "id": "6e9d1ad2",
   "metadata": {},
   "source": [
    "- **Overview**: \n",
    "  - The dataset contains 4801 entries and 13 columns.\n",
    "  - Features include house type, price, bedrooms, bathrooms, property square footage, and address details.\n",
    "\n",
    "- **Summary Statistics**:\n",
    "  - Prices range from 2,494 to 2,147,484,000.\n",
    "  - Average house has 3.36 bedrooms, 2.37 bathrooms, and 2184.21 square feet.\n",
    "\n",
    "- **Interesting Relations**:\n",
    "  - Explore correlations between price and numerical features.\n",
    "  - Analyze geographical distribution of house prices using latitude and longitude.\n",
    "  - Investigate impact of distance from iconic spot on house prices.\n"
   ]
  },
  {
   "cell_type": "markdown",
   "id": "cbea525c",
   "metadata": {},
   "source": [
    "- I would like to predict house prices based on features such as:\n",
    "\n",
    "  - Number of bedrooms\n",
    "  - Number of bathrooms\n",
    "  - Property square footage\n",
    "  - Possibly, the distance from an iconic spot in New York City."
   ]
  },
  {
   "cell_type": "code",
   "execution_count": 7,
   "id": "46e5b69b",
   "metadata": {},
   "outputs": [
    {
     "name": "stdout",
     "output_type": "stream",
     "text": [
      "Missing values in each column:\n",
      "TYPE                           0\n",
      "PRICE                          0\n",
      "BEDS                           0\n",
      "BATH                           0\n",
      "PROPERTYSQFT                   0\n",
      "STATE                          0\n",
      "MAIN_ADDRESS                   0\n",
      "ADMINISTRATIVE_AREA_LEVEL_2    0\n",
      "LOCALITY                       0\n",
      "SUBLOCALITY                    0\n",
      "STREET_NAME                    0\n",
      "LATITUDE                       0\n",
      "LONGITUDE                      0\n",
      "dtype: int64\n",
      "Shape of the cleaned dataset: (4438, 13)\n"
     ]
    }
   ],
   "source": [
    "missing_values = df.isnull().sum()\n",
    "print(\"Missing values in each column:\")\n",
    "print(missing_values)\n",
    "\n",
    "df.drop_duplicates(inplace=True)\n",
    "\n",
    "df.dropna(inplace=True)\n",
    "\n",
    "# Handle outliers\n",
    "df = df[df['PRICE'] <= 10000000]\n",
    "\n",
    "print(\"Shape of the cleaned dataset:\", df.shape)"
   ]
  },
  {
   "cell_type": "code",
   "execution_count": 14,
   "id": "662b7a70",
   "metadata": {},
   "outputs": [
    {
     "name": "stdout",
     "output_type": "stream",
     "text": [
      "Shape of X_train: (3550, 6)\n",
      "Shape of X_test: (888, 6)\n",
      "Shape of y_train: (3550,)\n",
      "Shape of y_test: (888,)\n"
     ]
    }
   ],
   "source": [
    "from sklearn.model_selection import train_test_split\n",
    "import numpy as np\n",
    "\n",
    "# Haversine formula to calculate distance between two points given their coordinates\n",
    "def haversine(lat1, lon1, lat2, lon2):\n",
    "    R = 6371  \n",
    "    dlat = np.radians(lat2 - lat1)\n",
    "    dlon = np.radians(lon2 - lon1)\n",
    "    a = np.sin(dlat / 2) ** 2 + np.cos(np.radians(lat1)) * np.cos(np.radians(lat2)) * np.sin(dlon / 2) ** 2\n",
    "    c = 2 * np.arctan2(np.sqrt(a), np.sqrt(1 - a))\n",
    "    distance = R * c \n",
    "    return distance\n",
    "\n",
    "iconic_landmark_coords = (40.7580, -73.9855)  # Times Square coordinates\n",
    "\n",
    "df['DISTANCE_TO_ICONIC_LANDMARK'] = df.apply(lambda row: haversine(row['LATITUDE'], row['LONGITUDE'], iconic_landmark_coords[0], iconic_landmark_coords[1]), axis=1)\n",
    "\n",
    "X = df[['BEDS', 'BATH', 'PROPERTYSQFT', 'LATITUDE', 'LONGITUDE', 'DISTANCE_TO_ICONIC_LANDMARK']]\n",
    "y = df['PRICE']\n",
    "\n",
    "X_train, X_test, y_train, y_test = train_test_split(X, y, test_size=0.2, random_state=42)\n",
    "\n",
    "print(\"Shape of X_train:\", X_train.shape)\n",
    "print(\"Shape of X_test:\", X_test.shape)\n",
    "print(\"Shape of y_train:\", y_train.shape)\n",
    "print(\"Shape of y_test:\", y_test.shape)\n"
   ]
  },
  {
   "cell_type": "code",
   "execution_count": null,
   "id": "0e199a6a",
   "metadata": {},
   "outputs": [],
   "source": []
  }
 ],
 "metadata": {
  "kernelspec": {
   "display_name": "Python 3 (ipykernel)",
   "language": "python",
   "name": "python3"
  },
  "language_info": {
   "codemirror_mode": {
    "name": "ipython",
    "version": 3
   },
   "file_extension": ".py",
   "mimetype": "text/x-python",
   "name": "python",
   "nbconvert_exporter": "python",
   "pygments_lexer": "ipython3",
   "version": "3.11.5"
  }
 },
 "nbformat": 4,
 "nbformat_minor": 5
}
