{
 "cells": [
  {
   "cell_type": "code",
   "execution_count": null,
   "id": "65ae504a",
   "metadata": {},
   "outputs": [],
   "source": [
    "import pandas as pd\n",
    "\n",
    "# Load the New York Housing Market dataset\n",
    "housing_data = pd.read_csv(\"NY-House-Dataset.csv\")\n",
    "\n",
    "# Display the first few rows of the housing dataset\n",
    "print(\"New York Housing Market dataset:\")\n",
    "print(housing_data.head())\n",
    "\n",
    "# Load the NYC Rat Sightings dataset\n",
    "rat_sightings_data = pd.read_csv(\"Rat_Sightings.csv\")\n",
    "\n",
    "# Display the first few rows of the rat sightings dataset\n",
    "print(\"\\nNYC Rat Sightings dataset:\")\n",
    "print(rat_sightings_data.head())\n"
   ]
  }
 ],
 "metadata": {
  "kernelspec": {
   "display_name": "Python 3 (ipykernel)",
   "language": "python",
   "name": "python3"
  },
  "language_info": {
   "codemirror_mode": {
    "name": "ipython",
    "version": 3
   },
   "file_extension": ".py",
   "mimetype": "text/x-python",
   "name": "python",
   "nbconvert_exporter": "python",
   "pygments_lexer": "ipython3",
   "version": "3.11.5"
  }
 },
 "nbformat": 4,
 "nbformat_minor": 5
}
