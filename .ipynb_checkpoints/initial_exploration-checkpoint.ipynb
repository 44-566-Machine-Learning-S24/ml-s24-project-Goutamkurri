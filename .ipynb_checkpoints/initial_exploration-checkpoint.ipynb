{
 "cells": [
  {
   "cell_type": "code",
   "execution_count": 32,
   "id": "e9da809b",
   "metadata": {
    "scrolled": true
   },
   "outputs": [
    {
     "name": "stdout",
     "output_type": "stream",
     "text": [
      "New York Housing Market dataset:\n",
      "                 TYPE      PRICE  BEDS       BATH  PROPERTYSQFT  \\\n",
      "0      Condo for sale     315000     2   2.000000        1400.0   \n",
      "1      Condo for sale  195000000     7  10.000000       17545.0   \n",
      "2      House for sale     260000     4   2.000000        2015.0   \n",
      "3      Condo for sale      69000     3   1.000000         445.0   \n",
      "4  Townhouse for sale   55000000     7   2.373861       14175.0   \n",
      "\n",
      "                     STATE                                       MAIN_ADDRESS  \\\n",
      "0       New York, NY 10022             2 E 55th St Unit 803New York, NY 10022   \n",
      "1       New York, NY 10019  Central Park Tower Penthouse-217 W 57th New Yo...   \n",
      "2  Staten Island, NY 10312            620 Sinclair AveStaten Island, NY 10312   \n",
      "3      Manhattan, NY 10022         2 E 55th St Unit 908W33Manhattan, NY 10022   \n",
      "4       New York, NY 10065                      5 E 64th StNew York, NY 10065   \n",
      "\n",
      "  ADMINISTRATIVE_AREA_LEVEL_2  LOCALITY      SUBLOCALITY       STREET_NAME  \\\n",
      "0             New York County  New York        Manhattan  East 55th Street   \n",
      "1               United States  New York  New York County          New York   \n",
      "2               United States  New York  Richmond County     Staten Island   \n",
      "3               United States  New York  New York County          New York   \n",
      "4               United States  New York  New York County          New York   \n",
      "\n",
      "    LATITUDE  LONGITUDE  \n",
      "0  40.761255 -73.974483  \n",
      "1  40.766393 -73.980991  \n",
      "2  40.541805 -74.196109  \n",
      "3  40.761398 -73.974613  \n",
      "4  40.767224 -73.969856  \n",
      "\n",
      "NYC Rat Sightings dataset:\n",
      "                  Location Type  Incident Zip      Incident Address  \\\n",
      "0  3+ Family Mixed Use Building       10006.0                   NaN   \n",
      "1           Commercial Building       10306.0  2270 HYLAN BOULEVARD   \n",
      "2           1-2 Family Dwelling       10310.0       758 POST AVENUE   \n",
      "3       3+ Family Apt. Building       11206.0    198 SCHOLES STREET   \n",
      "4  3+ Family Mixed Use Building       10462.0   2138 WALLACE AVENUE   \n",
      "\n",
      "       Street Name           City   Latitude  Longitude  \n",
      "0              NaN       NEW YORK  40.707772 -74.012963  \n",
      "1  HYLAN BOULEVARD  STATEN ISLAND  40.575209 -74.104547  \n",
      "2      POST AVENUE  STATEN ISLAND  40.631236 -74.126878  \n",
      "3   SCHOLES STREET       BROOKLYN  40.708987 -73.941207  \n",
      "4   WALLACE AVENUE          BRONX  40.854130 -73.864813  \n"
     ]
    }
   ],
   "source": [
    "import pandas as pd\n",
    "\n",
    "housing_data = pd.read_csv(\"NY-House-Dataset.csv\")\n",
    "\n",
    "print(\"New York Housing Market dataset:\")\n",
    "print(housing_data.head())\n",
    "\n",
    "rat_sightings_data = pd.read_csv(\"Rat_Sightings.csv\")\n",
    "\n",
    "print(\"\\nNYC Rat Sightings dataset:\")\n",
    "print(rat_sightings_data.head())\n"
   ]
  },
  {
   "cell_type": "markdown",
   "id": "6e9d1ad2",
   "metadata": {},
   "source": [
    "**New York Housing Market dataset:**\n",
    "- There is a wide range of housing types listed, including condos, houses, and townhouses.\n",
    "- Prices vary significantly, with some properties listed for millions of dollars and others for much less.\n",
    "- The number of bedrooms and bathrooms also varies, indicating differences in property sizes and types.\n",
    "- Geographical coordinates (latitude and longitude) are provided for each property, allowing for spatial analysis.\n",
    "\n",
    "**NYC Rat Sightings dataset:**\n",
    "- Rat sightings occur across various types of locations, including residential buildings, commercial buildings, and mixed-use buildings.\n",
    "- There are missing values in the \"Incident Address\" column, indicating that not all sightings are associated with specific addresses.\n",
    "- Rat sightings are reported across different zip codes and neighborhoods in New York City.\n",
    "- The dataset includes geographical coordinates (latitude and longitude) for each sighting, facilitating spatial analysis and mapping.\n",
    "\n",
    "**Observations:**\n",
    "- There may be a relationship between the type of location (e.g., residential, commercial) and the frequency of rat sightings.\n",
    "- It's possible that certain neighborhoods or zip codes have a higher incidence of rat sightings compared to others.\n",
    "- There might be spatial correlations between areas with high house prices and areas with a high frequency of rat sightings, but further analysis is needed to confirm this.\n"
   ]
  },
  {
   "cell_type": "markdown",
   "id": "cbea525c",
   "metadata": {},
   "source": [
    "**What feature/s would you like to be able to predict?** The geographical coordinates (latitude and longitude) of both house listings and rat sightings are crucial for spatial analysis. Mapping the distribution of house prices and rat sightings can help identify spatial patterns and correlations between the two features.\n",
    "\n",
    "Geographical coordinates provide precise location information for each data point, allowing us to visualize the spatial distribution of house prices and rat sightings on a map. By plotting these coordinates, we can observe clusters or hotspots of high and low values for each feature across different neighborhoods or areas of New York City.\n",
    "\n"
   ]
  },
  {
   "cell_type": "code",
   "execution_count": 38,
   "id": "46e5b69b",
   "metadata": {},
   "outputs": [
    {
     "name": "stdout",
     "output_type": "stream",
     "text": [
      "Missing values in New York Housing Market dataset:\n",
      " TYPE                           0\n",
      "PRICE                          0\n",
      "BEDS                           0\n",
      "BATH                           0\n",
      "PROPERTYSQFT                   0\n",
      "STATE                          0\n",
      "MAIN_ADDRESS                   0\n",
      "ADMINISTRATIVE_AREA_LEVEL_2    0\n",
      "LOCALITY                       0\n",
      "SUBLOCALITY                    0\n",
      "STREET_NAME                    0\n",
      "LATITUDE                       0\n",
      "LONGITUDE                      0\n",
      "dtype: int64\n",
      "Missing values in Rat Sightings dataset:\n",
      " Location Type          6\n",
      "Incident Zip         336\n",
      "Incident Address    9074\n",
      "Street Name         9075\n",
      "City                 342\n",
      "Latitude             706\n",
      "Longitude            706\n",
      "dtype: int64\n"
     ]
    }
   ],
   "source": [
    "import pandas as pd\n",
    "\n",
    "housing_data = pd.read_csv(\"NY-House-Dataset.csv\")\n",
    "\n",
    "missing_values_housing = housing_data.isnull().sum()\n",
    "print(\"Missing values in New York Housing Market dataset:\\n\", missing_values_housing)\n",
    "\n",
    "housing_data['ZIPCODE'] = housing_data['MAIN_ADDRESS'].str[-5:].astype(int)\n",
    "\n",
    "housing_data_cleaned = housing_data[['PRICE', 'ZIPCODE']]\n",
    "\n",
    "housing_data_cleaned.to_csv(\"cleaned_housing_data.csv\", index=False)\n",
    "\n",
    "rat_sightings_data = pd.read_csv(\"Rat_Sightings.csv\")\n",
    "\n",
    "print(\"Missing values in Rat Sightings dataset:\\n\", rat_sightings_data.isnull().sum())\n",
    "\n",
    "rat_sightings_data_cleaned = rat_sightings_data.dropna(subset=['Incident Zip']).copy()  # Create a copy\n",
    "\n",
    "rat_sightings_data_cleaned['Sightings Count'] = rat_sightings_data_cleaned.groupby('Incident Zip')['Incident Zip'].transform('count')\n",
    "\n",
    "rat_sightings_data_cleaned = rat_sightings_data_cleaned[['Incident Zip', 'Sightings Count']].drop_duplicates()\n",
    "\n",
    "rat_sightings_data_cleaned.to_csv(\"cleaned_rat_sightings_data.csv\", index=False)\n",
    "\n"
   ]
  },
  {
   "cell_type": "code",
   "execution_count": 41,
   "id": "662b7a70",
   "metadata": {},
   "outputs": [],
   "source": [
    "import pandas as pd\n",
    "from sklearn.model_selection import train_test_split\n",
    "\n",
    "housing_data = pd.read_csv(\"cleaned_housing_data.csv\")\n",
    "rat_sightings_data = pd.read_csv(\"cleaned_rat_sightings_data.csv\")\n",
    "\n",
    "merged_data = pd.merge(housing_data, rat_sightings_data, how='inner', left_on='ZIPCODE', right_on='Incident Zip')\n",
    "\n",
    "X = merged_data[['PRICE']].values  # Independent variable: housing prices\n",
    "y = merged_data[['Sightings Count']].values  # Dependent variable: count of rat sightings\n",
    "\n",
    "X_train, X_test, y_train, y_test = train_test_split(X, y, test_size=0.2, random_state=42)\n",
    "\n",
    "\n",
    "\n"
   ]
  }
 ],
 "metadata": {
  "kernelspec": {
   "display_name": "Python 3 (ipykernel)",
   "language": "python",
   "name": "python3"
  },
  "language_info": {
   "codemirror_mode": {
    "name": "ipython",
    "version": 3
   },
   "file_extension": ".py",
   "mimetype": "text/x-python",
   "name": "python",
   "nbconvert_exporter": "python",
   "pygments_lexer": "ipython3",
   "version": "3.11.5"
  }
 },
 "nbformat": 4,
 "nbformat_minor": 5
}
